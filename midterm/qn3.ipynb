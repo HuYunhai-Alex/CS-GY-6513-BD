{
 "cells": [
  {
   "cell_type": "code",
   "execution_count": 2,
   "id": "729b8b6d",
   "metadata": {},
   "outputs": [
    {
     "name": "stderr",
     "output_type": "stream",
     "text": [
      "Setting default log level to \"WARN\".\n",
      "To adjust logging level use sc.setLogLevel(newLevel). For SparkR, use setLogLevel(newLevel).\n"
     ]
    },
    {
     "name": "stdout",
     "output_type": "stream",
     "text": [
      "23/04/02 17:48:02 WARN NativeCodeLoader: Unable to load native-hadoop library for your platform... using builtin-java classes where applicable\n"
     ]
    },
    {
     "data": {
      "text/html": [
       "\n",
       "            <div>\n",
       "                <p><b>SparkSession - in-memory</b></p>\n",
       "                \n",
       "        <div>\n",
       "            <p><b>SparkContext</b></p>\n",
       "\n",
       "            <p><a href=\"http://jupyter-vt2182:4040\">Spark UI</a></p>\n",
       "\n",
       "            <dl>\n",
       "              <dt>Version</dt>\n",
       "                <dd><code>v3.3.1</code></dd>\n",
       "              <dt>Master</dt>\n",
       "                <dd><code>local[*]</code></dd>\n",
       "              <dt>AppName</dt>\n",
       "                <dd><code>pyspark-shell</code></dd>\n",
       "            </dl>\n",
       "        </div>\n",
       "        \n",
       "            </div>\n",
       "        "
      ],
      "text/plain": [
       "<pyspark.sql.session.SparkSession at 0x7f986648dfc0>"
      ]
     },
     "execution_count": 2,
     "metadata": {},
     "output_type": "execute_result"
    }
   ],
   "source": [
    "import os\n",
    "import pyspark\n",
    "conf = pyspark.SparkConf()\n",
    "conf.set('spark.ui.proxyBase', '/user/' + os.environ['JUPYTERHUB_USER'] + '/proxy/4040')\n",
    "\n",
    "sc = pyspark.SparkContext(conf=conf)\n",
    "spark = pyspark.sql.SparkSession(sc)\n",
    "spark"
   ]
  },
  {
   "cell_type": "code",
   "execution_count": 3,
   "id": "14fc2c88",
   "metadata": {},
   "outputs": [
    {
     "name": "stderr",
     "output_type": "stream",
     "text": [
      "                                                                                \r"
     ]
    }
   ],
   "source": [
    "# Read the CSV files\n",
    "df = spark.read.option(\"header\", \"true\").csv(\"../shared/midterm/articles1.csv\")"
   ]
  },
  {
   "cell_type": "code",
   "execution_count": 4,
   "id": "ac483b6e",
   "metadata": {},
   "outputs": [
    {
     "name": "stderr",
     "output_type": "stream",
     "text": [
      "                                                                                \r"
     ]
    },
    {
     "data": {
      "text/plain": [
       "50004"
      ]
     },
     "execution_count": 4,
     "metadata": {},
     "output_type": "execute_result"
    }
   ],
   "source": [
    "df.count()"
   ]
  },
  {
   "cell_type": "code",
   "execution_count": 5,
   "id": "6dc6ea23",
   "metadata": {},
   "outputs": [],
   "source": [
    "from datasketch import MinHash\n",
    "from pyspark.sql.functions import *\n",
    "from pyspark.sql.types import FloatType"
   ]
  },
  {
   "cell_type": "code",
   "execution_count": 6,
   "id": "f39c8d30",
   "metadata": {},
   "outputs": [
    {
     "name": "stderr",
     "output_type": "stream",
     "text": [
      "                                                                                \r"
     ]
    },
    {
     "data": {
      "text/plain": [
       "(1, 50003)"
      ]
     },
     "execution_count": 6,
     "metadata": {},
     "output_type": "execute_result"
    }
   ],
   "source": [
    "# Extract the reference article from the dataset\n",
    "ref_article = df.filter(col(\"id\") == \"69716\")\n",
    "\n",
    "# Exclude the reference article from the dataset\n",
    "df = df.filter(col(\"id\") != \"69716\")\n",
    "\n",
    "ref_article.count(), df.count()"
   ]
  },
  {
   "cell_type": "code",
   "execution_count": 7,
   "id": "c5bb9ebc",
   "metadata": {},
   "outputs": [
    {
     "name": "stdout",
     "output_type": "stream",
     "text": [
      "23/04/02 17:48:25 WARN CSVHeaderChecker: CSV header does not conform to the schema.\n",
      " Header: , id, title, publication, author, date, year, month, url, content\n",
      " Schema: _c0, id, title, publication, author, date, year, month, url, content\n",
      "Expected: _c0 but found: \n",
      "CSV file: file:///home/jovyan/shared/midterm/articles1.csv\n"
     ]
    },
    {
     "name": "stderr",
     "output_type": "stream",
     "text": [
      "                                                                                \r"
     ]
    },
    {
     "name": "stdout",
     "output_type": "stream",
     "text": [
      "+-----+-----+--------------------+----------------+------+----------+------+-----+----+--------------------+\n",
      "|  _c0|   id|               title|     publication|author|      date|  year|month| url|             content|\n",
      "+-----+-----+--------------------+----------------+------+----------+------+-----+----+--------------------+\n",
      "|50097|69716|California lifted...|Business Insider|  null|2016-05-21|2016.0|  5.0|null|’’ ’On Wednesday,...|\n",
      "+-----+-----+--------------------+----------------+------+----------+------+-----+----+--------------------+\n",
      "\n",
      "23/04/02 17:48:28 WARN CSVHeaderChecker: CSV header does not conform to the schema.\n",
      " Header: , id, title, publication, author, date, year, month, url, content\n",
      " Schema: _c0, id, title, publication, author, date, year, month, url, content\n",
      "Expected: _c0 but found: \n",
      "CSV file: file:///home/jovyan/shared/midterm/articles1.csv\n",
      "+---+-----+--------------------+--------------+--------------------+----------+------+-----+----+--------------------+\n",
      "|_c0|   id|               title|   publication|              author|      date|  year|month| url|             content|\n",
      "+---+-----+--------------------+--------------+--------------------+----------+------+-----+----+--------------------+\n",
      "|  0|17283|House Republicans...|New York Times|          Carl Hulse|2016-12-31|2016.0| 12.0|null|WASHINGTON  —   C...|\n",
      "|  1|17284|Rift Between Offi...|New York Times|Benjamin Mueller ...|2017-06-19|2017.0|  6.0|null|After the bullet ...|\n",
      "|  2|17285|Tyrus Wong, ‘Bamb...|New York Times|        Margalit Fox|2017-01-06|2017.0|  1.0|null|When Walt Disney’...|\n",
      "|  3|17286|Among Deaths in 2...|New York Times|    William McDonald|2017-04-10|2017.0|  4.0|null|Death may be the ...|\n",
      "|  4|17287|Kim Jong-un Says ...|New York Times|       Choe Sang-Hun|2017-01-02|2017.0|  1.0|null|SEOUL, South Kore...|\n",
      "+---+-----+--------------------+--------------+--------------------+----------+------+-----+----+--------------------+\n",
      "only showing top 5 rows\n",
      "\n"
     ]
    }
   ],
   "source": [
    "ref_article.show()\n",
    "\n",
    "df.show(5)"
   ]
  },
  {
   "cell_type": "code",
   "execution_count": 8,
   "id": "47a0f571",
   "metadata": {},
   "outputs": [
    {
     "name": "stdout",
     "output_type": "stream",
     "text": [
      "23/04/02 17:48:28 WARN CSVHeaderChecker: CSV header does not conform to the schema.\n",
      " Header: , id, title, publication, author, date, year, month, url, content\n",
      " Schema: _c0, id, title, publication, author, date, year, month, url, content\n",
      "Expected: _c0 but found: \n",
      "CSV file: file:///home/jovyan/shared/midterm/articles1.csv\n"
     ]
    },
    {
     "name": "stderr",
     "output_type": "stream",
     "text": [
      "                                                                                \r"
     ]
    },
    {
     "name": "stdout",
     "output_type": "stream",
     "text": [
      "23/04/02 17:48:31 WARN CSVHeaderChecker: CSV header does not conform to the schema.\n",
      " Header: , id, title, publication, author, date, year, month, url, content\n",
      " Schema: _c0, id, title, publication, author, date, year, month, url, content\n",
      "Expected: _c0 but found: \n",
      "CSV file: file:///home/jovyan/shared/midterm/articles1.csv\n"
     ]
    },
    {
     "name": "stderr",
     "output_type": "stream",
     "text": [
      "                                                                                \r"
     ]
    },
    {
     "data": {
      "text/plain": [
       "('69716',\n",
       " '’’ ’On Wednesday, California  to its mandatory statewide water restrictions for urban use, a tip of the umbrella to the relatively wet winter northern parts of the state had, which helped  and brought a  to the Sierras.’ ’That decision was probably premature. For Southern California especially, the drought is still just as bad as ever. In much of the Sierra Nevada and Southern California, there’s still two or three entire years of rain missing since this drought began five years ago.’ ’If that’s not a reason to continue with   water conservation, I don’t know what is. In making the announcement, the state declared that local communities could set their own limits, so the opposite will likely happen as they back off on restrictions for things like watering lawns.’ ’Add climate change on top, and California is still heading toward drought disaster.  means the state’s crucial snowpack now melts much faster than in the past, creating a false sense of security before running out entirely. So although this year’s snowpack  on April 1, six weeks later it’s already down to  for late May. In a few more weeks —  at this rate —  it’ll be gone entirely.’ ’’ ’  you blew it;   years worth of rain missing in SoCal during past 5 years.    ’ ’Basically, it was an “El Niño in the streets, La Niña in the sheets” kind of winter for the entire West Coast. Seattle wound up with  something unheard of for an El Niño year, which typically dries out the Pacific Northwest. And then in some parts of Southern California, the drought’s severity slightly since the start of the rainy season —  and that’s what we’d expect with a typical La Niña pattern, not El Niño. (We are currently in the  between these two weather events. )’ ’The quick reason for the weirdness of the   winter is that the jet stream, which typically delivers the relentless coastal storms to California that make El Niño famous, was much farther north than expected. (My  for one, was pretty  .) But why? Smarter meteorologists than me are digging into that answer.’ ’Anthony Masiello is a New Jersey —  based meteorologist who focuses on seasonal predictability and has provided  that the character of El Niño itself might be changing as the planet warms. Here’s the theory: Since warm air expands, the volume of our entire atmosphere is growing, and the circulation system of the tropics is expanding toward the poles. That could be shifting the jet stream northward, too, at least during El Niño years.’ ’Since the last strong El Niño in 1997 —  98, we’ve had nearly two decades of global warming. But that warming hasn’t been uniform over the entire planet, so to truly understand how this might affect El Niño, one has to specifically consider what has happened in the Pacific Ocean, as Daniel Swain  and that’s a very complex thing to sort out. Chances are, though, that global warming is shifting El Niño precipitation patterns geographically at least a little. For Southern California, that might have been enough to cut off the tap almost entirely this year.’ ’The meteorologist who’s looked at this in the most detail is probably Judah Cohen. Last month,  which contains a torrent of meteorological detail, of just why most West Coast forecasts were so wrong. He also published  in the journal Nature on May 11 about the same topic. In a phone conversation, he cut to the chase: “The models clearly failed.   …     It was a good year for chaos. ”’ ’This winter’s chaos has caused Cohen to lose a bit of confidence in using past El Niño patterns to predict future El Niño patterns, he says. Even though this El Niño was one of the strongest on record, “  this winter was classical La Niña. ” Cohen thinks he’s found a big reason why: This winter featured sharply fluctuating strength of the polar vortex, which in its strong phase tends to pull the Pacific jet stream northward. That, combined with the steady pressure of a gradually warming tropics, might have done the trick.’ ’’ ’Whatever the reason for the weird El Niño on the West Coast, the result is Southern California remains locked into its worst drought on record. Going into the state’s   dry season, for the   at least, fire conditions there are only going to get worse.’ ’The drought has already had widespread ramifications. By the U. S. Forest Service’s count, 40 million trees statewide have died during the   drought, 29 million . Dead trees are like matchsticks for forest fires —  Daniel Berlant, a spokesman for California Department of Forestry and Fire Protection, told the San Francisco Chronicle that fire danger has markedly increased as a result.’ ’“No level of rain is going to bring the dead trees back,” Berlant said. “We’re talking trees that are   that are now dead. Those larger trees are going to burn a lot hotter and a lot faster. We’re talking huge trees in mass quantity surrounding homes. ”’ ’Not only that, but this year’s rains, where they did fall, may have actually increased fire danger by spurring a good crop of grasses and shrubs,   “ladder fuels” that help fires jump from smoldering near the ground to hopping from treetop to treetop.’ ’In  U. S. Forest Service Chief Tom Tidwell said that California’s trees will continue to die due to drought for at least three more years, and this year’s switch to La Niña .’ ”I know, I know, calling for a La Niña —  caused dry rainy season next year is a little awkward considering this past year’s forecast performed so horribly. But the   trends show that should the warmth of the recent past continue, California will continue to have less snowpack for a long time to come. “This is not weather,” Tidwell said. “This is climate change. That’s what we’re dealing with. ”” ’Last year’s fire season was the worst on record nationwide, with 10. 1 million acres burned. Federal and state governments have upped their firefighting budgets for this year, . In California, Cal Fire has awarded to communities in part to assist with clearing dead trees from around houses.’ ’Wildfire photographer Stuart Palley, whose work  on Slate, spent the winter in firefighting training and will embed with a fire crew in the Cleveland National Forest near San Diego later this year as a crew member —  made possible by that increase in funding.’ ’’ ’“[The firefighters’] view is, ‘anything can happen at anytime, anywhere. It’s a new normal. Fire season is ’ ” Palley said. “They’re all staffed and ready to go right now. ”’ ’Palley, like many of us, was caught   by the size and intensity of the fires in Alberta, Canada, already in May. While Southern California has a much different ecosystem than the northern boreal forest, if anything, there’s a much greater risk of wildfires becoming urban fires simply because of the sheer number of people living near forests and the severity of the ongoing drought.’ ’“I think this might be Southern California’s year,” Palley said. “I think a lot of firefighters around here are wondering it’s not a matter of if it’s going to happen, but when it’s going to happen. ”’ ’On Wednesday, California said goodbye to its. ..’')"
      ]
     },
     "execution_count": 8,
     "metadata": {},
     "output_type": "execute_result"
    }
   ],
   "source": [
    "ref_article.head()[\"id\"], ref_article.head()[\"content\"]"
   ]
  },
  {
   "cell_type": "code",
   "execution_count": 9,
   "id": "2162113c",
   "metadata": {},
   "outputs": [
    {
     "name": "stdout",
     "output_type": "stream",
     "text": [
      "23/04/02 17:48:38 WARN CSVHeaderChecker: CSV header does not conform to the schema.\n",
      " Header: , id, title, publication, author, date, year, month, url, content\n",
      " Schema: _c0, id, title, publication, author, date, year, month, url, content\n",
      "Expected: _c0 but found: \n",
      "CSV file: file:///home/jovyan/shared/midterm/articles1.csv\n"
     ]
    },
    {
     "name": "stderr",
     "output_type": "stream",
     "text": [
      "                                                                                \r"
     ]
    }
   ],
   "source": [
    "# Create a MinHash for the reference article\n",
    "reference_minhash = MinHash(num_perm=128)\n",
    "for word in ref_article.head()[\"content\"].split():\n",
    "    reference_minhash.update(word.encode(\"utf-8\"))"
   ]
  },
  {
   "cell_type": "code",
   "execution_count": 10,
   "id": "c0548ab2",
   "metadata": {},
   "outputs": [],
   "source": [
    "# Function to calculate the estimated Jaccard similarity\n",
    "def calculate_jaccard_similarity(article_content):\n",
    "    if article_content is not None:\n",
    "        article_minhash = MinHash(num_perm=128)\n",
    "        for word in article_content.split():\n",
    "            article_minhash.update(word.encode(\"utf-8\"))\n",
    "        estimated_jaccard = reference_minhash.jaccard(article_minhash)\n",
    "        return estimated_jaccard\n",
    "\n",
    "# Register the UDF\n",
    "jaccard_similarity_udf = udf(calculate_jaccard_similarity, FloatType())"
   ]
  },
  {
   "cell_type": "code",
   "execution_count": 11,
   "id": "03038db5",
   "metadata": {},
   "outputs": [],
   "source": [
    "# Calculate the Jaccard similarity for each article in the DataFrame\n",
    "jaccard_estimations_df = df.withColumn(\"jaccard_estimation\", jaccard_similarity_udf(col(\"content\")))"
   ]
  },
  {
   "cell_type": "code",
   "execution_count": 12,
   "id": "7be3dc44",
   "metadata": {},
   "outputs": [
    {
     "name": "stderr",
     "output_type": "stream",
     "text": [
      "[Stage 19:>                                                         (0 + 2) / 2]\r"
     ]
    },
    {
     "name": "stdout",
     "output_type": "stream",
     "text": [
      "23/04/02 17:52:59 WARN CSVHeaderChecker: CSV header does not conform to the schema.\n",
      " Header: , id, title, publication, author, date, year, month, url, content\n",
      " Schema: _c0, id, title, publication, author, date, year, month, url, content\n",
      "Expected: _c0 but found: \n",
      "CSV file: file:///home/jovyan/shared/midterm/articles1.csv\n"
     ]
    },
    {
     "name": "stderr",
     "output_type": "stream",
     "text": [
      "                                                                                \r"
     ]
    },
    {
     "name": "stdout",
     "output_type": "stream",
     "text": [
      "+-----+-----+--------------------+----------------+--------------+----------+------+-----+----+--------------------+------------------+\n",
      "|  _c0|   id|               title|     publication|        author|      date|  year|month| url|             content|jaccard_estimation|\n",
      "+-----+-----+--------------------+----------------+--------------+----------+------+-----+----+--------------------+------------------+\n",
      "| 7186|25722|The Most Importan...|  New York Times|     Nate Cohn|2016-04-21|2016.0|  4.0|null|Join us for New Y...|          0.171875|\n",
      "|34293|53109|Police shootout s...|             CNN|   Ana Cabrera|2017-01-27|2017.0|  1.0|null|Denver, Colorado ...|         0.1640625|\n",
      "|47365|66574|Tesla fans are ab...|Business Insider|Matthew DeBord|2017-04-23|2017.0|  4.0|null|’’ ’Tesla is pois...|         0.1640625|\n",
      "|16833|35570|Pastor Mark Burns...|       Breitbart|  John Hayward|2016-08-29|2016.0|  8.0|null|“This is a really...|         0.1640625|\n",
      "|49301|68777|Trump is making a...|Business Insider|          null|2016-03-23|2016.0|  3.0|null|’’ ’Donald Trump ...|         0.1640625|\n",
      "|53140|73226|2016: A Year Defi...|        Atlantic|  Annie Lowrey|2016-12-30|2016.0| 12.0|null|In many ways, 201...|         0.1640625|\n",
      "|34918|53738|By the numbers: H...|             CNN|Marshall Cohen|2017-04-29|2017.0|  4.0|null|Washington (CNN) ...|         0.1640625|\n",
      "|29448|48212|Rep. Dave Brat: I...|       Breitbart|  John Hayward|2016-09-13|2016.0|  9.0|null|Rep. Dave Brat ( ...|         0.1640625|\n",
      "|35158|53979|Anti-vaccine grou...|             CNN|          null|2017-05-08|2017.0|  5.0|null| (CNN) A measles ...|         0.1640625|\n",
      "|26586|45341|Trump To Release ...|       Breitbart|    Neil Munro|2016-01-03|2016.0|  1.0|null|Donald Trump is p...|           0.15625|\n",
      "+-----+-----+--------------------+----------------+--------------+----------+------+-----+----+--------------------+------------------+\n",
      "only showing top 10 rows\n",
      "\n"
     ]
    }
   ],
   "source": [
    "# Get the top 10 articles with the highest Jaccard similarity\n",
    "jaccard_estimations_df.orderBy(col(\"jaccard_estimation\").desc()).show(10)"
   ]
  },
  {
   "cell_type": "code",
   "execution_count": null,
   "id": "2f92f6e2",
   "metadata": {},
   "outputs": [],
   "source": []
  }
 ],
 "metadata": {
  "kernelspec": {
   "display_name": "Python [conda env:bigdata]",
   "language": "python",
   "name": "conda-env-bigdata-py"
  },
  "language_info": {
   "codemirror_mode": {
    "name": "ipython",
    "version": 3
   },
   "file_extension": ".py",
   "mimetype": "text/x-python",
   "name": "python",
   "nbconvert_exporter": "python",
   "pygments_lexer": "ipython3",
   "version": "3.10.9"
  }
 },
 "nbformat": 4,
 "nbformat_minor": 5
}
